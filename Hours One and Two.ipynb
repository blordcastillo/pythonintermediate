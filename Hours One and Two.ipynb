{
 "cells": [
  {
   "cell_type": "markdown",
   "metadata": {},
   "source": [
    "# Intermediate Geoprocessing with Python"
   ]
  },
  {
   "cell_type": "markdown",
   "metadata": {},
   "source": [
    "## Get our environment set up\n",
    " * Install Anaconda\n",
    " * Review of packmage managers (pip, conda, setuptools)\n",
    " * Using ```conda``` to install packages\n",
    " * ```arcpy``` and the magic .pth\n",
    " * Virtual Environments\n",
    "\n",
    "## Logging\n",
    "Use configuration files\n",
    " * Python: What you are already writing in, but difficult to read\n",
    " * YAML: Easiest to read, but requires extra libraries (and there is [no concensus on what to use](https://pypi.python.org/pypi?%3Aaction=search&term=yaml&submit=search))  \n",
    " * JSON: Easy to read and uses built-in libraries"
   ]
  },
  {
   "cell_type": "code",
   "execution_count": null,
   "metadata": {
    "collapsed": false
   },
   "outputs": [],
   "source": [
    "%%javascript\n",
    "{\n",
    "    \"version\": 1,\n",
    "    \"disable_existing_loggers\": false,\n",
    "    \"formatters\": {\n",
    "        \"simple\": {\n",
    "            \"format\": \"%(asctime)s - %(name)s - %(levelname)s - %(message)s\"\n",
    "        },\n",
    "        \"statistic\": {\n",
    "            \"format\": \"%(asctime)s : %(message)s\"\n",
    "        },\n",
    "        \"special\": {\n",
    "            \"format\": \"%(message)s\"\n",
    "        }\n",
    "    },\n",
    "    \"filters\": {\n",
    "          \"statsfilter\": {\n",
    "            \"()\": \"ext://logging_config.KeywordFilter\",\n",
    "            \"param\": \"_stats_\"\n",
    "          }\n",
    "\n",
    "    },\n",
    "\n",
    "    \"handlers\": {\n",
    "        \"console\": {\n",
    "            \"class\": \"logging.StreamHandler\",\n",
    "            \"level\": \"DEBUG\",\n",
    "            \"formatter\": \"simple\",\n",
    "            \"stream\": \"ext://sys.stdout\"\n",
    "        },\n",
    "\n",
    "        \"info_file_handler\": {\n",
    "            \"class\": \"logging.handlers.TimedRotatingFileHandler\",\n",
    "            \"level\": \"INFO\",\n",
    "            \"formatter\": \"simple\",\n",
    "            \"filename\": \"info.log\",\n",
    "            \"when\": \"D\",\n",
    "            \"backupCount\": 20,\n",
    "            \"encoding\": \"utf8\"\n",
    "        },\n",
    "\n",
    "        \"error_file_handler\": {\n",
    "            \"class\": \"logging.handlers.TimedRotatingFileHandler\",\n",
    "            \"level\": \"ERROR\",\n",
    "            \"formatter\": \"simple\",\n",
    "            \"filename\": \"error.log\",\n",
    "            \"when\": \"D\",\n",
    "            \"backupCount\": 20,\n",
    "            \"encoding\": \"utf8\"\n",
    "        },\n",
    "\n",
    "        \"stats_file_handler\": {\n",
    "              \"class\": \"logging.handlers.RotatingFileHandler\",\n",
    "              \"level\": \"INFO\",\n",
    "              \"formatter\": \"statistic\",\n",
    "              \"filename\": \"stats.log\",\n",
    "              \"maxBytes\": 10485760,\n",
    "              \"backupCount\": 20,\n",
    "              \"encoding\": \"utf8\",\n",
    "              \"filters\": [\"statsfilter\"]\n",
    "          },\n",
    "\n",
    "        \"special_file_handler\": {\n",
    "              \"class\": \"logging.handlers.RotatingFileHandler\",\n",
    "              \"level\": \"DEBUG\",\n",
    "              \"formatter\": \"special\",\n",
    "              \"filename\": \"specialcase.log\",\n",
    "              \"maxBytes\": 10485760,\n",
    "              \"backupCount\": 20,\n",
    "              \"encoding\": \"utf8\"\n",
    "          }\n",
    "    },\n",
    "\n",
    "    \"loggers\": {\n",
    "        \"statistics\": {\n",
    "            \"level\": \"INFO\",\n",
    "            \"handlers\": [\"stats_file_handler\"],\n",
    "            \"propagate\": 0\n",
    "        },\n",
    "        \"special\": {\n",
    "            \"level\": \"DEBUG\",\n",
    "            \"handlers\": [\"special_file_handler\"],\n",
    "            \"propagate\": 0\n",
    "        }\n",
    "    },\n",
    "\n",
    "    \"root\": {\n",
    "        \"level\": \"INFO\",\n",
    "        \"handlers\": [\"console\", \"info_file_handler\", \"error_file_handler\"]\n",
    "    }\n",
    "}"
   ]
  },
  {
   "cell_type": "markdown",
   "metadata": {},
   "source": [
    "## Logging Config Anatomy\n",
    " * Level is import (DEBUG, INFO, WARNING, ERROR, CRITICAL)\n",
    " * root is the root logger\n",
    " * loggers have handlers and do the work\n",
    " * handlers have formats and filters and define the work\n",
    " \n",
    " Log records propagate upwards. Names work like namespaces.\n",
    " A logger named \"myprogram.function_a\" propages to a logger named \"myprogram\" which propagates to root.\n",
    " To stop upward propagation (don't send the log to root) set propagate to 0.  \n",
    " (Check out http://www.shutupandship.com/2012/02/how-python-logging-module-works.html)  \n",
    " "
   ]
  },
  {
   "cell_type": "code",
   "execution_count": null,
   "metadata": {
    "collapsed": false
   },
   "outputs": [],
   "source": [
    "# Levels are numbers\n",
    "import logging\n",
    "logging.DEBUG"
   ]
  },
  {
   "cell_type": "code",
   "execution_count": null,
   "metadata": {
    "collapsed": false
   },
   "outputs": [],
   "source": [
    "logging.INFO"
   ]
  },
  {
   "cell_type": "code",
   "execution_count": null,
   "metadata": {
    "collapsed": false
   },
   "outputs": [],
   "source": [
    "logging.WARNING"
   ]
  },
  {
   "cell_type": "code",
   "execution_count": null,
   "metadata": {
    "collapsed": false
   },
   "outputs": [],
   "source": [
    "logging.ERROR"
   ]
  },
  {
   "cell_type": "code",
   "execution_count": null,
   "metadata": {
    "collapsed": false
   },
   "outputs": [],
   "source": [
    "logging.CRITICAL"
   ]
  },
  {
   "cell_type": "code",
   "execution_count": null,
   "metadata": {
    "collapsed": true
   },
   "outputs": [],
   "source": [
    "## Reading the config (and a custom filter)"
   ]
  },
  {
   "cell_type": "code",
   "execution_count": null,
   "metadata": {
    "collapsed": true
   },
   "outputs": [],
   "source": [
    "import logging.config\n",
    "from string import punctuation\n",
    "from string import whitespace\n",
    "import json\n",
    "import os\n",
    "\n",
    "\n",
    "class KeywordFilter(logging.Filter):\n",
    "    def __init__(self, param=None):\n",
    "        super(KeywordFilter, self).__init__()\n",
    "        self.param = param\n",
    "\n",
    "    def filter(self, record):\n",
    "        if self.param is None:\n",
    "            allow = True\n",
    "        else:\n",
    "            allow = record.msg.startswith(self.param)\n",
    "        if allow:\n",
    "            record.msg = record.msg[len(self.param):].lstrip(punctuation + whitespace)\n",
    "        return allow\n",
    "\n",
    "\n",
    "def setup_logging(\n",
    "        default_path='logging.json',\n",
    "        default_level=logging.INFO,\n",
    "        env_key='LOG_CFG'\n",
    "):\n",
    "    \"\"\"Setup logging configuration\n",
    "\n",
    "    \"\"\"\n",
    "    path = default_path\n",
    "    value = os.getenv(env_key, None)\n",
    "    if value:\n",
    "        path = value\n",
    "    if os.path.exists(path):\n",
    "        with open(path, 'rt') as f:\n",
    "            config = json.load(f)\n",
    "        logging.config.dictConfig(config)\n",
    "    else:\n",
    "        logging.basicConfig(level=default_level)"
   ]
  },
  {
   "cell_type": "markdown",
   "metadata": {},
   "source": [
    "## Field Calculator\n",
    "Download the [sample data](https://www.dropbox.com/s/ewanlg0vhm9rkv7/Assignment3.zip)\n",
    "  \n",
    "### Convert our zip codes with ```.format```\n",
    "Need a reference? Google it! (The docs are hard to read)  "
   ]
  },
  {
   "cell_type": "code",
   "execution_count": null,
   "metadata": {
    "collapsed": true
   },
   "outputs": [],
   "source": [
    "# Cases: zip = 123459999, zip = '123459999', zip = '12345', zip = 12345\n",
    "# Want: '12345-9999 or 12345'"
   ]
  },
  {
   "cell_type": "markdown",
   "metadata": {},
   "source": [
    "Now carry over to ArcGIS Desktop, and try these cases:\n",
    " * Convert School Districts to title case\n",
    " * Convert phone numbers to ###.###.#### but leave emails alone\n"
   ]
  },
  {
   "cell_type": "code",
   "execution_count": null,
   "metadata": {
    "collapsed": true
   },
   "outputs": [],
   "source": [
    "district = \"BRENTWOOD\""
   ]
  },
  {
   "cell_type": "code",
   "execution_count": null,
   "metadata": {
    "collapsed": true
   },
   "outputs": [],
   "source": [
    "contact2 = '314-555-1212'\n",
    "contact3 = 'webmaster@gmail.com'"
   ]
  },
  {
   "cell_type": "markdown",
   "metadata": {},
   "source": [
    "## Hour Two\n",
    "Download the [zip code data from dropbox](https://www.dropbox.com/s/yn5usq1zenvszem/MO_1992_Zip_Code_Areas_shp.zip)  \n",
    "Install requests http://www.lfd.uci.edu/~gohlke/pythonlibs/#requests  \n",
    "* Requests and Web Communication: Wifi Sites Demo\n",
    "* Regexp\n",
    "* Basic Cursors\n",
    "* Rewriting ameren.py"
   ]
  },
  {
   "cell_type": "code",
   "execution_count": null,
   "metadata": {
    "collapsed": true
   },
   "outputs": [],
   "source": [
    "import requests\n",
    "url = \"https://raw.githubusercontent.com/marigolds6/pythonintermediate/master/wifisample.js\"\n",
    "r = requests.get(url)"
   ]
  },
  {
   "cell_type": "code",
   "execution_count": null,
   "metadata": {
    "collapsed": true
   },
   "outputs": [],
   "source": [
    "r.raise_for_status()"
   ]
  },
  {
   "cell_type": "code",
   "execution_count": null,
   "metadata": {
    "collapsed": true
   },
   "outputs": [],
   "source": [
    "import json\n",
    "nodes = r.json()"
   ]
  },
  {
   "cell_type": "markdown",
   "metadata": {},
   "source": [
    "What we want:\n",
    " * Building without all the whitespace\n",
    " * Type changed to wifitype\n",
    " * build map locator"
   ]
  },
  {
   "cell_type": "code",
   "execution_count": null,
   "metadata": {
    "collapsed": true
   },
   "outputs": [],
   "source": [
    "for node in nodes:\n",
    "     print \"A type {wifitype} wifi node is located in {building} ({locator}) at {lat}, {long}\".format(**node)"
   ]
  },
  {
   "cell_type": "markdown",
   "metadata": {},
   "source": [
    "## Reg Exp for pattern matching\n",
    "Goals:\n",
    " * Examine the Ameren webpage at http://apps.ameren.com/outage/OutagebyZip.aspx?state=MO\n",
    " * Write regexp to find the pattern in the page"
   ]
  },
  {
   "cell_type": "code",
   "execution_count": null,
   "metadata": {
    "collapsed": true
   },
   "outputs": [],
   "source": [
    "import re\n",
    "pattern = ''\n",
    "matcher = re.compile(pattern)\n",
    "output = matcher.match('mystring')\n"
   ]
  },
  {
   "cell_type": "markdown",
   "metadata": {},
   "source": [
    "Get help: https://regex101.com/ (and others)"
   ]
  },
  {
   "cell_type": "code",
   "execution_count": null,
   "metadata": {
    "collapsed": true
   },
   "outputs": [],
   "source": [
    "import requests\n",
    "url = 'http://apps.ameren.com/outage/OutagebyZip.aspx?state=MO'\n",
    "r = requests.get(url)"
   ]
  },
  {
   "cell_type": "code",
   "execution_count": null,
   "metadata": {
    "collapsed": false
   },
   "outputs": [],
   "source": [
    "r.content"
   ]
  },
  {
   "cell_type": "code",
   "execution_count": null,
   "metadata": {
    "collapsed": true
   },
   "outputs": [],
   "source": []
  }
 ],
 "metadata": {
  "kernelspec": {
   "display_name": "Python 2",
   "language": "python",
   "name": "python2"
  },
  "language_info": {
   "codemirror_mode": {
    "name": "ipython",
    "version": 2
   },
   "file_extension": ".py",
   "mimetype": "text/x-python",
   "name": "python",
   "nbconvert_exporter": "python",
   "pygments_lexer": "ipython2",
   "version": "2.7.11"
  }
 },
 "nbformat": 4,
 "nbformat_minor": 0
}
